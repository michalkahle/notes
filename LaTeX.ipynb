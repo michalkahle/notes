{
 "cells": [
  {
   "cell_type": "markdown",
   "metadata": {},
   "source": [
    "https://en.wikibooks.org/wiki/LaTeX/Basics"
   ]
  },
  {
   "cell_type": "markdown",
   "metadata": {},
   "source": [
    "## Greek alphabet\n",
    "\n",
    "|                           |                             |                           |                             |\n",
    "|   ---                     |  ---                        |   ---                     |  ---                        |\n",
    "|$\\alpha$                   |`\\alpha`                     |$\\mu$                      | `\\mu`                       |\n",
    "|$\\beta$                    | `\\beta`                     |$\\nu$                      | `\\nu`                       |\n",
    "|$\\gamma, \\Gamma$           | `\\gamma`, `\\Gamma`          |$\\xi, \\Xi$                 | `\\xi, \\Xi`                  |\n",
    "|$\\delta, \\Delta$           | `\\delta`, `\\Delta`          |$o, O$                     | `o, O`                      |\n",
    "|$\\epsilon, \\varepsilon$    | `\\epsilon`, `\\varepsilon`   |$\\pi, \\varpi, \\Pi$         | `\\pi, \\varpi, \\Pi`          |\n",
    "|$\\zeta$                    | `\\zeta`                     |$\\rho, \\varrho$            | `\\rho, \\varrho`             |\n",
    "|$\\eta$                     | `\\eta`                      |$\\sigma, \\varsigma, \\Sigma$| `\\sigma, \\varsigma, \\Sigma` |\n",
    "|$\\theta, \\vartheta, \\Theta$| `\\theta, \\vartheta, \\Theta` |$\\tau$                     | `\\tau`                      |\n",
    "|$\\iota$                    | `\\iota`                     |$\\upsilon, \\Upsilon$       | `\\upsilon, \\Upsilon`        |\n",
    "|$\\kappa$                   | `\\kappa`                    |$\\phi, \\varphi, \\Phi$      | `\\phi, \\varphi, \\Phi`       |\n",
    "|$\\lambda, \\Lambda$         | `\\lambda, \\Lambda`          |$\\chi$                     | `\\chi`                      |\n",
    "|                           |                             |$\\psi, \\Psi$               | `\\psi, \\Psi`                |\n",
    "\n"
   ]
  },
  {
   "cell_type": "markdown",
   "metadata": {},
   "source": [
    "## Curly braces\n",
    "$\n",
    "sign(x) = \\left \\{\n",
    "    \\begin{array}\\\\\n",
    "        1 & \\mbox{if } \\ x \\in \\mathbf{N}^* \\\\\n",
    "        0 & \\mbox{if } \\ x = 0 \\\\\n",
    "        -1 & \\mbox{else.}\n",
    "    \\end{array}\n",
    "\\right.\n",
    "$\n",
    "```tex\n",
    "sign(x) = \\left \\{\n",
    "    \\begin{array}\\\\\n",
    "        1 & \\mbox{if } \\ x \\in \\mathbf{N}^* \\\\\n",
    "        0 & \\mbox{if } \\ x = 0 \\\\\n",
    "        -1 & \\mbox{else.}\n",
    "    \\end{array}\n",
    "\\right.\n",
    "```\n"
   ]
  },
  {
   "cell_type": "markdown",
   "metadata": {},
   "source": [
    "$\n",
    " \\left.\n",
    "    \\begin{array} \\\\\n",
    "        \\alpha^2 = \\sqrt5 \\\\\n",
    "        \\alpha \\geq 0 \n",
    "    \\end{array}\n",
    "\\right \\}=\\alpha = 5 \n",
    "$\n",
    "```tex\n",
    " \\left.\n",
    "    \\begin{array} \\\\\n",
    "        \\alpha^2 = \\sqrt5 \\\\\n",
    "        \\alpha \\geq 0 \n",
    "    \\end{array}\n",
    "\\right \\}=\\alpha = 5 \n",
    "```"
   ]
  },
  {
   "cell_type": "markdown",
   "metadata": {},
   "source": [
    "## Derivatives and integrals\n",
    "\n",
    "$f'(x)$ `f'(x)`\n",
    "\n",
    "$f''(x)$\n",
    "\n",
    "$\\frac{d f}{d x}$\n"
   ]
  },
  {
   "cell_type": "code",
   "execution_count": null,
   "metadata": {},
   "outputs": [],
   "source": []
  }
 ],
 "metadata": {
  "kernelspec": {
   "display_name": "py3.8",
   "language": "python",
   "name": "py3.8"
  },
  "language_info": {
   "codemirror_mode": {
    "name": "ipython",
    "version": 3
   },
   "file_extension": ".py",
   "mimetype": "text/x-python",
   "name": "python",
   "nbconvert_exporter": "python",
   "pygments_lexer": "ipython3",
   "version": "3.8.6"
  }
 },
 "nbformat": 4,
 "nbformat_minor": 4
}
