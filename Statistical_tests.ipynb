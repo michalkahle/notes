{
 "cells": [
  {
   "cell_type": "markdown",
   "metadata": {},
   "source": [
    "## Parametric tests\n",
    "\n",
    "### One-sample t-test\n",
    "$$ t = \\frac {\\bar{X} - \\mu_0}{ \\mathrm{SE}_{\\bar{x}} }\n",
    "= \\frac {\\bar{X} - \\mu_0}{ s \\sqrt{\\frac{1}{n}}}$$"
   ]
  },
  {
   "cell_type": "markdown",
   "metadata": {},
   "source": [
    "Where $\\bar{x}$ is the sample mean $s$ is the **unbiased** sample standard deviation, $n$ is the sample size and $\\mu_0$ is the mean according to $H_0$. The degrees of freedom are $ \\mathrm{df}=n-1$."
   ]
  },
  {
   "cell_type": "markdown",
   "metadata": {},
   "source": [
    "### Two-sample t-test\n",
    "\n",
    "$$ t \n",
    "= \\frac{ \\bar{X_1} - \\bar{X_2} }{ \\mathrm{SE}_{\\bar{X_1} - \\bar{X_2}} }\n",
    "= \\frac{ \\bar{X_1} - \\bar{X_2} }{ s_p \\sqrt{\\frac{1}{n_1} + \\frac{1}{n_2}} } \n",
    "$$\n",
    "\n",
    "Where $\\mathrm{SE}_{\\bar{X_1} - \\bar{X_2}}$ is the standard error of the difference of two means and $s_p$ is pooled **unbiased** standard deviation:\n",
    "$$ s_p = \\sqrt{\\frac{\\left(n_1-1\\right)s_{X_1}^2+\\left(n_2-1\\right)s_{X_2}^2}{n_1+n_2-2}} $$\n",
    "\n",
    "The degrees of freedom for significance testing $ \\mathrm{df} = n_1 + n_2 -2$."
   ]
  },
  {
   "cell_type": "markdown",
   "metadata": {},
   "source": [
    "### Welsh's t-test\n",
    "For unequal variance samples.\n",
    "\n",
    "$$ t \n",
    "= \\frac{ \\bar{X_1} - \\bar{X_2} }{ \\mathrm{SE}_{\\bar{X_1} - \\bar{X_2}} }\n",
    "= \\frac{ \\bar{X_1} - \\bar{X_2} }{ \\sqrt{\\frac{s_1^2}{n_1} + \\frac{s_2^2}{n_2}} } \n",
    "$$\n",
    "\n",
    "Variance $s_1$ and $s_2$ is *not* pooled. The degrees of freedom must be calculated by:\n",
    "$$ \\mathrm{df} = \\frac{\\left(\\frac{s_1^2}{n_1} + \\frac{s_2^2}{n_2}\\right)^2}{\\frac{\\left(s_1^2/n_1\\right)^2}{n_1-1} + \\frac{\\left(s_2^2/n_2\\right)^2}{n_2-1}} $$"
   ]
  },
  {
   "cell_type": "code",
   "execution_count": null,
   "metadata": {},
   "outputs": [],
   "source": []
  },
  {
   "cell_type": "code",
   "execution_count": null,
   "metadata": {},
   "outputs": [],
   "source": []
  },
  {
   "cell_type": "markdown",
   "metadata": {},
   "source": [
    "- **ANOVA**: compare more than two groups\n",
    "- **Pearson correlation**: compare to a continuous variable\n",
    "- **Linear regression**: like correlation but can be multivariate"
   ]
  },
  {
   "cell_type": "markdown",
   "metadata": {},
   "source": [
    "## Non-parametric tests\n",
    "\n",
    "- **Mann-Whitney U test / Wilcoxon Rank Sum**: compare two groups\n",
    "- **Kruskal-Wallis test**: compare more than two groups\n",
    "- **Spearman correlation**: compare to a continuous variable\n",
    "- but no good way to control for confounding variables"
   ]
  },
  {
   "cell_type": "code",
   "execution_count": null,
   "metadata": {},
   "outputs": [],
   "source": []
  },
  {
   "cell_type": "code",
   "execution_count": null,
   "metadata": {},
   "outputs": [],
   "source": []
  },
  {
   "cell_type": "code",
   "execution_count": null,
   "metadata": {},
   "outputs": [],
   "source": []
  }
 ],
 "metadata": {
  "kernelspec": {
   "display_name": "py3.8",
   "language": "python",
   "name": "py3.8"
  },
  "language_info": {
   "codemirror_mode": {
    "name": "ipython",
    "version": 3
   },
   "file_extension": ".py",
   "mimetype": "text/x-python",
   "name": "python",
   "nbconvert_exporter": "python",
   "pygments_lexer": "ipython3",
   "version": "3.8.5"
  },
  "toc": {
   "base_numbering": 1,
   "nav_menu": {},
   "number_sections": false,
   "sideBar": true,
   "skip_h1_title": false,
   "title_cell": "Table of Contents",
   "title_sidebar": "Contents",
   "toc_cell": false,
   "toc_position": {},
   "toc_section_display": true,
   "toc_window_display": false
  }
 },
 "nbformat": 4,
 "nbformat_minor": 4
}
