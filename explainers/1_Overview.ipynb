{
 "cells": [
  {
   "cell_type": "markdown",
   "metadata": {},
   "source": [
    "# Topics\n",
    "1. Classification and high level comparison of programming languages\n",
    "1. Introduction to programming in Python\n",
    "1. Python working environment with pip, conda and Jupyter\n",
    "1. Numeric computing with Numpy, floats and NaNs\n",
    "1. Data mungling with Pandas, tidy data\n",
    "1. Data visualization with Matplotlib and Plotnine\n",
    "1. Machine learning introduction and classification, scikit-learn\n",
    "1. Dimensionality reduction: PCA, tSNE, UMAP\n",
    "1. Clustering\n",
    "1. Image analysis and computer vision\n",
    "1. Databases and SQL\n",
    "1. Statistics"
   ]
  },
  {
   "cell_type": "markdown",
   "metadata": {},
   "source": [
    "For a quick intro to Python as a programming language I highly recommend https://jakevdp.github.io/WhirlwindTourOfPython/ . It has the right amount of detail (not too much). ￼"
   ]
  },
  {
   "cell_type": "markdown",
   "metadata": {},
   "source": [
    "This is a great talk about history and overview of data science tools in Python (for beginners and experienced alike): \n",
    "PyData Keynote - Jake VanderPlas\n",
    "https://www.youtube.com/watch?v=DifMYH3iuFw&ab_channel=PyData"
   ]
  },
  {
   "cell_type": "markdown",
   "metadata": {},
   "source": [
    "For fun introduction you can read https://dsaber.com/2016/10/02/a-dramatic-tour-through-pythons-data-visualization-landscape-including-ggplot-and-altair/ or watch JakeVDP overview the Python visualization landscape https://www.youtube.com/watch?v=FytuB8nFHPQ&ab_channel=PyCon2017.\n"
   ]
  }
 ],
 "metadata": {
  "kernelspec": {
   "display_name": "py3.9",
   "language": "python",
   "name": "py3.9"
  },
  "language_info": {
   "codemirror_mode": {
    "name": "ipython",
    "version": 3
   },
   "file_extension": ".py",
   "mimetype": "text/x-python",
   "name": "python",
   "nbconvert_exporter": "python",
   "pygments_lexer": "ipython3",
   "version": "3.9.5"
  }
 },
 "nbformat": 4,
 "nbformat_minor": 4
}
